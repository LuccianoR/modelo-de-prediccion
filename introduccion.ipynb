{
 "cells": [
  {
   "cell_type": "markdown",
   "id": "10e5ccd7",
   "metadata": {},
   "source": [
    "# 🐍 Repaso inicial de Python\n",
    "\n",
    "Este repaso cubre lo esencial para arrancar con Python.  \n",
    "\n",
    "---\n",
    "\n",
    "## 1. Variables,  Tipos de Datos y Tipos Complejos"
   ]
  },
  {
   "cell_type": "code",
   "execution_count": null,
   "id": "e00002da",
   "metadata": {},
   "outputs": [],
   "source": [
    "# Asignación de variables\n",
    "nombre = \"Lucci\"   # str (texto)\n",
    "edad = 20            # int (entero)\n",
    "altura = 1.80      # float (decimal)\n",
    "es_estudiante = True    # bool (booleano)\n",
    "\n",
    "print(nombre, edad, altura, es_estudiante)"
   ]
  },
  {
   "cell_type": "code",
   "execution_count": null,
   "id": "397cd279",
   "metadata": {},
   "outputs": [],
   "source": [
    "# Aritméticos\n",
    "a = 10\n",
    "b = 3\n",
    "\n",
    "print(a + b)   # Suma\n",
    "print(a - b)   # Resta\n",
    "print(a * b)   # Multiplicación\n",
    "print(a / b)   # División\n",
    "print(a // b)  # División entera\n",
    "print(a % b)   # Resto\n",
    "print(a ** b)  # Potencia"
   ]
  },
  {
   "cell_type": "code",
   "execution_count": null,
   "id": "fcc23dac",
   "metadata": {},
   "outputs": [],
   "source": [
    "x = 20\n",
    "\n",
    "if x > 18:\n",
    "    print(\"Es mayor de edad\")\n",
    "else:\n",
    "    print(\"Es menor de edad\")"
   ]
  },
  {
   "cell_type": "code",
   "execution_count": null,
   "id": "a38ce1b6",
   "metadata": {},
   "outputs": [],
   "source": [
    "# for\n",
    "for i in range(5):\n",
    "    print(\"Número:\", i)\n",
    "\n",
    "# while\n",
    "contador = 0\n",
    "while contador < 3:\n",
    "    print(\"Contador:\", contador)\n",
    "    contador += 1"
   ]
  },
  {
   "cell_type": "code",
   "execution_count": null,
   "id": "29d48a87",
   "metadata": {},
   "outputs": [],
   "source": [
    "# Funciones\n",
    "def saludar(nombre):\n",
    "    return f\"Hola, {nombre}! Bienvenido a Python.\"\n",
    "\n",
    "print(saludar(\"Lucci\"))"
   ]
  },
  {
   "cell_type": "code",
   "execution_count": null,
   "id": "e206f0fd",
   "metadata": {},
   "outputs": [],
   "source": [
    "#Listas\n",
    "\n",
    "lista = [1, 2, 3, 4, 5]\n",
    "\n",
    "#Índice\n",
    "print(lista[0])\n",
    "print(lista[2:4]) #No incluye el último dato\n",
    "\n",
    "#Pueden guardar cualquier tipo de dato\n",
    "lista_2 = [1, \"dos\", True, None, 2.7, [1,2,3]]\n",
    "print(lista_2)\n",
    "\n",
    "#Mutable\n",
    "\n",
    "#Modificar elemento\n",
    "lista[1] = 5000\n",
    "print(lista)\n",
    "\n",
    "#Agregar elemento\n",
    "lista.append(6)\n",
    "print(lista)\n",
    "\n",
    "#Eliminar elemento\n",
    "lista.pop(2)\n",
    "print(lista)"
   ]
  },
  {
   "cell_type": "code",
   "execution_count": null,
   "id": "a88dbf7e",
   "metadata": {},
   "outputs": [],
   "source": [
    "# Tupla\n",
    "tupla = (1,2,3,4,\"5\",True, [1,2,3,4])\n",
    "\n",
    "print(tupla)\n",
    "\n",
    "#Indice\n",
    "print(tupla[1])\n",
    "print(tupla[2:4]) #No incluye el ultimo dato\n",
    "\n",
    "#comparar\n",
    "print(5 in tupla)"
   ]
  },
  {
   "cell_type": "code",
   "execution_count": null,
   "id": "ae48e32c",
   "metadata": {},
   "outputs": [],
   "source": [
    "#Diccionario\n",
    "\n",
    "diccionario = {\n",
    "    \"nombre\": \"Juan\",\n",
    "    \"apellido\": \"Perez\",\n",
    "    \"edad\": 20,\n",
    "    \"altura\": 1.70,\n",
    "    \"peso\": 70,\n",
    "}\n",
    "\n",
    "#Acceder por clave\n",
    "print(diccionario[\"nombre\"])\n",
    "\n",
    "#Agregar o modificar\n",
    "diccionario[\"edad\"] = 21\n",
    "diccionario[\"ciudad\"] = \"CABA\"\n",
    "\n",
    "#Eliminar valor\n",
    "del diccionario[\"altura\"]\n",
    "print(diccionario)\n",
    "\n",
    "ciudad = diccionario.pop(\"ciudad\")\n",
    "print(diccionario)\n",
    "print(ciudad)\n",
    "\n",
    "#Comprobar clave\n",
    "print(\"nombre\" in diccionario)\n"
   ]
  },
  {
   "cell_type": "markdown",
   "id": "5d8a4c73",
   "metadata": {},
   "source": [
    "# Analisis de Datos\n",
    "\n",
    "Arranquemos con el analisis y estudio de datos con Pandas y Matplotlib"
   ]
  },
  {
   "cell_type": "code",
   "execution_count": 145,
   "id": "4beb3667",
   "metadata": {},
   "outputs": [],
   "source": [
    "import pandas as pd"
   ]
  },
  {
   "cell_type": "code",
   "execution_count": 146,
   "id": "67293448",
   "metadata": {},
   "outputs": [
    {
     "data": {
      "text/html": [
       "<div>\n",
       "<style scoped>\n",
       "    .dataframe tbody tr th:only-of-type {\n",
       "        vertical-align: middle;\n",
       "    }\n",
       "\n",
       "    .dataframe tbody tr th {\n",
       "        vertical-align: top;\n",
       "    }\n",
       "\n",
       "    .dataframe thead th {\n",
       "        text-align: right;\n",
       "    }\n",
       "</style>\n",
       "<table border=\"1\" class=\"dataframe\">\n",
       "  <thead>\n",
       "    <tr style=\"text-align: right;\">\n",
       "      <th></th>\n",
       "      <th>start_date</th>\n",
       "      <th>end_date</th>\n",
       "      <th>created_on</th>\n",
       "      <th>lat</th>\n",
       "      <th>lon</th>\n",
       "      <th>l1</th>\n",
       "      <th>l2</th>\n",
       "      <th>l3</th>\n",
       "      <th>rooms</th>\n",
       "      <th>bedrooms</th>\n",
       "      <th>bathrooms</th>\n",
       "      <th>surface_total</th>\n",
       "      <th>surface_covered</th>\n",
       "      <th>price</th>\n",
       "      <th>currency</th>\n",
       "      <th>title</th>\n",
       "      <th>description</th>\n",
       "      <th>property_type</th>\n",
       "      <th>operation_type</th>\n",
       "    </tr>\n",
       "  </thead>\n",
       "  <tbody>\n",
       "    <tr>\n",
       "      <th>0</th>\n",
       "      <td>2019-10-17</td>\n",
       "      <td>2019-12-23</td>\n",
       "      <td>2019-10-17</td>\n",
       "      <td>-34.605880</td>\n",
       "      <td>-58.384949</td>\n",
       "      <td>Argentina</td>\n",
       "      <td>Capital Federal</td>\n",
       "      <td>San Cristobal</td>\n",
       "      <td>7.0</td>\n",
       "      <td>7.0</td>\n",
       "      <td>2.0</td>\n",
       "      <td>140.0</td>\n",
       "      <td>140.0</td>\n",
       "      <td>153000.0</td>\n",
       "      <td>USD</td>\n",
       "      <td>***Venta semipiso centro, ideal hostel*****</td>\n",
       "      <td>DESCRIPCION DE LA PROPIEDAD: Departamento de 1...</td>\n",
       "      <td>Departamento</td>\n",
       "      <td>Venta</td>\n",
       "    </tr>\n",
       "    <tr>\n",
       "      <th>1</th>\n",
       "      <td>2019-10-17</td>\n",
       "      <td>2019-11-21</td>\n",
       "      <td>2019-10-17</td>\n",
       "      <td>-34.624056</td>\n",
       "      <td>-58.412110</td>\n",
       "      <td>Argentina</td>\n",
       "      <td>Capital Federal</td>\n",
       "      <td>Boedo</td>\n",
       "      <td>2.0</td>\n",
       "      <td>1.0</td>\n",
       "      <td>2.0</td>\n",
       "      <td>70.0</td>\n",
       "      <td>58.0</td>\n",
       "      <td>159000.0</td>\n",
       "      <td>USD</td>\n",
       "      <td>Espectacular PH reciclado en Boedo sin expensas.</td>\n",
       "      <td>PH reciclado en Boedo a una cuadra de la plaz...</td>\n",
       "      <td>PH</td>\n",
       "      <td>Venta</td>\n",
       "    </tr>\n",
       "    <tr>\n",
       "      <th>2</th>\n",
       "      <td>2019-10-17</td>\n",
       "      <td>2019-11-01</td>\n",
       "      <td>2019-10-17</td>\n",
       "      <td>-34.593569</td>\n",
       "      <td>-58.427474</td>\n",
       "      <td>Argentina</td>\n",
       "      <td>Capital Federal</td>\n",
       "      <td>Palermo</td>\n",
       "      <td>2.0</td>\n",
       "      <td>1.0</td>\n",
       "      <td>1.0</td>\n",
       "      <td>45.0</td>\n",
       "      <td>45.0</td>\n",
       "      <td>125000.0</td>\n",
       "      <td>USD</td>\n",
       "      <td>Depto.tipo casa de 2 ambientes en Venta en Pal...</td>\n",
       "      <td>2 ambienets amplio , excelente estado , patio ...</td>\n",
       "      <td>PH</td>\n",
       "      <td>Venta</td>\n",
       "    </tr>\n",
       "    <tr>\n",
       "      <th>3</th>\n",
       "      <td>2019-10-17</td>\n",
       "      <td>2019-12-23</td>\n",
       "      <td>2019-10-17</td>\n",
       "      <td>-34.581294</td>\n",
       "      <td>-58.436754</td>\n",
       "      <td>Argentina</td>\n",
       "      <td>Capital Federal</td>\n",
       "      <td>Palermo</td>\n",
       "      <td>2.0</td>\n",
       "      <td>1.0</td>\n",
       "      <td>1.0</td>\n",
       "      <td>85.0</td>\n",
       "      <td>50.0</td>\n",
       "      <td>295000.0</td>\n",
       "      <td>USD</td>\n",
       "      <td>COSTA RICA 5800 / PALERMO HOLLYWOOD / VENTA PH...</td>\n",
       "      <td>HERMOSO PH EN PALERMO!!!2 AMBIENTES TOTALMENTE...</td>\n",
       "      <td>PH</td>\n",
       "      <td>Venta</td>\n",
       "    </tr>\n",
       "    <tr>\n",
       "      <th>4</th>\n",
       "      <td>2019-10-17</td>\n",
       "      <td>2020-03-11</td>\n",
       "      <td>2019-10-17</td>\n",
       "      <td>-34.914194</td>\n",
       "      <td>-57.938219</td>\n",
       "      <td>Argentina</td>\n",
       "      <td>Bs.As. G.B.A. Zona Sur</td>\n",
       "      <td>La Plata</td>\n",
       "      <td>2.0</td>\n",
       "      <td>1.0</td>\n",
       "      <td>1.0</td>\n",
       "      <td>50.0</td>\n",
       "      <td>35.0</td>\n",
       "      <td>40000.0</td>\n",
       "      <td>USD</td>\n",
       "      <td>58 entre 1 y 2  Venta de departamento en ph.1 ...</td>\n",
       "      <td>58 entre 1 y 2  Venta de departamento en PH. P...</td>\n",
       "      <td>PH</td>\n",
       "      <td>Venta</td>\n",
       "    </tr>\n",
       "  </tbody>\n",
       "</table>\n",
       "</div>"
      ],
      "text/plain": [
       "   start_date    end_date  created_on        lat        lon         l1  \\\n",
       "0  2019-10-17  2019-12-23  2019-10-17 -34.605880 -58.384949  Argentina   \n",
       "1  2019-10-17  2019-11-21  2019-10-17 -34.624056 -58.412110  Argentina   \n",
       "2  2019-10-17  2019-11-01  2019-10-17 -34.593569 -58.427474  Argentina   \n",
       "3  2019-10-17  2019-12-23  2019-10-17 -34.581294 -58.436754  Argentina   \n",
       "4  2019-10-17  2020-03-11  2019-10-17 -34.914194 -57.938219  Argentina   \n",
       "\n",
       "                       l2             l3  rooms  bedrooms  bathrooms  \\\n",
       "0         Capital Federal  San Cristobal    7.0       7.0        2.0   \n",
       "1         Capital Federal          Boedo    2.0       1.0        2.0   \n",
       "2         Capital Federal        Palermo    2.0       1.0        1.0   \n",
       "3         Capital Federal        Palermo    2.0       1.0        1.0   \n",
       "4  Bs.As. G.B.A. Zona Sur       La Plata    2.0       1.0        1.0   \n",
       "\n",
       "   surface_total  surface_covered     price currency  \\\n",
       "0          140.0            140.0  153000.0      USD   \n",
       "1           70.0             58.0  159000.0      USD   \n",
       "2           45.0             45.0  125000.0      USD   \n",
       "3           85.0             50.0  295000.0      USD   \n",
       "4           50.0             35.0   40000.0      USD   \n",
       "\n",
       "                                               title  \\\n",
       "0        ***Venta semipiso centro, ideal hostel*****   \n",
       "1   Espectacular PH reciclado en Boedo sin expensas.   \n",
       "2  Depto.tipo casa de 2 ambientes en Venta en Pal...   \n",
       "3  COSTA RICA 5800 / PALERMO HOLLYWOOD / VENTA PH...   \n",
       "4  58 entre 1 y 2  Venta de departamento en ph.1 ...   \n",
       "\n",
       "                                         description property_type  \\\n",
       "0  DESCRIPCION DE LA PROPIEDAD: Departamento de 1...  Departamento   \n",
       "1   PH reciclado en Boedo a una cuadra de la plaz...            PH   \n",
       "2  2 ambienets amplio , excelente estado , patio ...            PH   \n",
       "3  HERMOSO PH EN PALERMO!!!2 AMBIENTES TOTALMENTE...            PH   \n",
       "4  58 entre 1 y 2  Venta de departamento en PH. P...            PH   \n",
       "\n",
       "  operation_type  \n",
       "0          Venta  \n",
       "1          Venta  \n",
       "2          Venta  \n",
       "3          Venta  \n",
       "4          Venta  "
      ]
     },
     "execution_count": 146,
     "metadata": {},
     "output_type": "execute_result"
    }
   ],
   "source": [
    "import pandas as pd\n",
    "\n",
    "# Leé el archivo con el encoding correcto\n",
    "data = pd.read_csv(\n",
    "    r\"D:\\desarrollo\\club-de-datos\\club-de-datos-python\\data\\db_3.csv\",\n",
    "    sep=\",\"\n",
    ")\n",
    "\n",
    "# Mostrá las primeras filas\n",
    "data.head()\n"
   ]
  },
  {
   "cell_type": "code",
   "execution_count": 147,
   "id": "bf92e747",
   "metadata": {},
   "outputs": [
    {
     "name": "stdout",
     "output_type": "stream",
     "text": [
      "Index(['start_date', 'end_date', 'created_on', 'lat', 'lon', 'l1', 'l2', 'l3',\n",
      "       'rooms', 'bedrooms', 'bathrooms', 'surface_total', 'surface_covered',\n",
      "       'price', 'currency', 'title', 'description', 'property_type',\n",
      "       'operation_type'],\n",
      "      dtype='object')\n"
     ]
    }
   ],
   "source": [
    "\n",
    "# Ver nombres de columnas\n",
    "print(data.columns)"
   ]
  },
  {
   "cell_type": "code",
   "execution_count": 148,
   "id": "b30ab5fa",
   "metadata": {},
   "outputs": [],
   "source": [
    "data.columns = ['fecha_inicio', 'fecha_fin', 'fecha_creacion', 'lat', 'lon', 'pais', 'provincia', 'ciudad',\n",
    " 'ambientes', 'dormitorios', 'baños', 'superficie_total', 'superficie_cubierta',\n",
    " 'precio', 'moneda', 'titulo', 'descripcion', 'tipo_propiedad', 'tipo_operacion']"
   ]
  },
  {
   "cell_type": "code",
   "execution_count": 149,
   "id": "531c4482",
   "metadata": {},
   "outputs": [
    {
     "name": "stdout",
     "output_type": "stream",
     "text": [
      "Index(['fecha_inicio', 'fecha_fin', 'fecha_creacion', 'lat', 'lon', 'pais',\n",
      "       'provincia', 'ciudad', 'ambientes', 'dormitorios', 'baños',\n",
      "       'superficie_total', 'superficie_cubierta', 'precio', 'moneda', 'titulo',\n",
      "       'descripcion', 'tipo_propiedad', 'tipo_operacion'],\n",
      "      dtype='object')\n"
     ]
    },
    {
     "data": {
      "text/plain": [
       "(146660, 19)"
      ]
     },
     "execution_count": 149,
     "metadata": {},
     "output_type": "execute_result"
    }
   ],
   "source": [
    "print(data.columns)\n",
    "data.head()\n",
    "data.shape"
   ]
  },
  {
   "cell_type": "code",
   "execution_count": 150,
   "id": "54386617",
   "metadata": {},
   "outputs": [
    {
     "name": "stdout",
     "output_type": "stream",
     "text": [
      "<class 'pandas.core.frame.DataFrame'>\n",
      "RangeIndex: 146660 entries, 0 to 146659\n",
      "Data columns (total 19 columns):\n",
      " #   Column               Non-Null Count   Dtype  \n",
      "---  ------               --------------   -----  \n",
      " 0   fecha_inicio         146660 non-null  object \n",
      " 1   fecha_fin            146660 non-null  object \n",
      " 2   fecha_creacion       146660 non-null  object \n",
      " 3   lat                  136735 non-null  float64\n",
      " 4   lon                  136701 non-null  float64\n",
      " 5   pais                 146660 non-null  object \n",
      " 6   provincia            146660 non-null  object \n",
      " 7   ciudad               146660 non-null  object \n",
      " 8   ambientes            146660 non-null  float64\n",
      " 9   dormitorios          146660 non-null  float64\n",
      " 10  baños                140703 non-null  float64\n",
      " 11  superficie_total     126133 non-null  float64\n",
      " 12  superficie_cubierta  125046 non-null  float64\n",
      " 13  precio               146660 non-null  float64\n",
      " 14  moneda               146660 non-null  object \n",
      " 15  titulo               146660 non-null  object \n",
      " 16  descripcion          146660 non-null  object \n",
      " 17  tipo_propiedad       146660 non-null  object \n",
      " 18  tipo_operacion       146660 non-null  object \n",
      "dtypes: float64(8), object(11)\n",
      "memory usage: 21.3+ MB\n",
      "None\n"
     ]
    }
   ],
   "source": [
    "# Ver resumen de tipos de datos y nulos\n",
    "print(data.info())"
   ]
  },
  {
   "cell_type": "code",
   "execution_count": 151,
   "id": "c94ff44c",
   "metadata": {},
   "outputs": [
    {
     "data": {
      "text/plain": [
       "fecha_inicio               0\n",
       "fecha_fin                  0\n",
       "fecha_creacion             0\n",
       "lat                     9925\n",
       "lon                     9959\n",
       "pais                       0\n",
       "provincia                  0\n",
       "ciudad                     0\n",
       "ambientes                  0\n",
       "dormitorios                0\n",
       "baños                   5957\n",
       "superficie_total       20527\n",
       "superficie_cubierta    21614\n",
       "precio                     0\n",
       "moneda                     0\n",
       "titulo                     0\n",
       "descripcion                0\n",
       "tipo_propiedad             0\n",
       "tipo_operacion             0\n",
       "dtype: int64"
      ]
     },
     "execution_count": 151,
     "metadata": {},
     "output_type": "execute_result"
    }
   ],
   "source": [
    "data.isnull().sum()"
   ]
  },
  {
   "cell_type": "code",
   "execution_count": 152,
   "id": "2055ff06",
   "metadata": {},
   "outputs": [],
   "source": [
    "#data_2 = data[\"superficie_cubierta\"].dropna\n",
    "data_2 = data.dropna(subset=['superficie_cubierta'])"
   ]
  },
  {
   "cell_type": "code",
   "execution_count": 137,
   "id": "9dc50991",
   "metadata": {},
   "outputs": [
    {
     "data": {
      "text/plain": [
       "(125046, 19)"
      ]
     },
     "execution_count": 137,
     "metadata": {},
     "output_type": "execute_result"
    }
   ],
   "source": [
    "type(data_2)\n",
    "data_2.shape\n",
    "\n"
   ]
  },
  {
   "cell_type": "code",
   "execution_count": 138,
   "id": "518b66d2",
   "metadata": {},
   "outputs": [
    {
     "data": {
      "text/plain": [
       "fecha_inicio              0\n",
       "fecha_fin                 0\n",
       "fecha_creacion            0\n",
       "lat                    8487\n",
       "lon                    8487\n",
       "pais                      0\n",
       "provincia                 0\n",
       "ciudad                    0\n",
       "ambientes                 0\n",
       "dormitorios               0\n",
       "baños                  1725\n",
       "superficie_total        515\n",
       "superficie_cubierta       0\n",
       "precio                    0\n",
       "moneda                    0\n",
       "titulo                    0\n",
       "descripcion               0\n",
       "tipo_propiedad            0\n",
       "tipo_operacion            0\n",
       "dtype: int64"
      ]
     },
     "execution_count": 138,
     "metadata": {},
     "output_type": "execute_result"
    }
   ],
   "source": [
    "data_2.isnull().sum()\n"
   ]
  },
  {
   "cell_type": "code",
   "execution_count": 139,
   "id": "df5e5206",
   "metadata": {},
   "outputs": [
    {
     "data": {
      "text/plain": [
       "fecha_inicio              0\n",
       "fecha_fin                 0\n",
       "fecha_creacion            0\n",
       "lat                    8330\n",
       "lon                    8330\n",
       "pais                      0\n",
       "provincia                 0\n",
       "ciudad                    0\n",
       "ambientes                 0\n",
       "dormitorios               0\n",
       "baños                     0\n",
       "superficie_total          0\n",
       "superficie_cubierta       0\n",
       "precio                    0\n",
       "moneda                    0\n",
       "titulo                    0\n",
       "descripcion               0\n",
       "tipo_propiedad            0\n",
       "tipo_operacion            0\n",
       "dtype: int64"
      ]
     },
     "execution_count": 139,
     "metadata": {},
     "output_type": "execute_result"
    }
   ],
   "source": [
    "data_3 = data.dropna(subset=['superficie_cubierta', \"superficie_total\", \"baños\"])\n",
    "data_3.isnull().sum()"
   ]
  },
  {
   "cell_type": "code",
   "execution_count": 140,
   "id": "338b08b8",
   "metadata": {},
   "outputs": [
    {
     "name": "stdout",
     "output_type": "stream",
     "text": [
      "                 lat            lon      ambientes    dormitorios  \\\n",
      "count  114488.000000  114488.000000  122818.000000  122818.000000   \n",
      "mean      -34.598315     -58.462856       3.130950       2.068345   \n",
      "std         0.095430       0.140075       1.394685       1.084066   \n",
      "min       -35.150806     -59.042416       1.000000       0.000000   \n",
      "25%       -34.620238     -58.499527       2.000000       1.000000   \n",
      "50%       -34.598219     -58.443019       3.000000       2.000000   \n",
      "75%       -34.571633     -58.410219       4.000000       3.000000   \n",
      "max       -34.159732     -57.805832      35.000000      15.000000   \n",
      "\n",
      "               baños  superficie_total  superficie_cubierta        precio  \n",
      "count  122818.000000     122818.000000        122818.000000  1.228180e+05  \n",
      "mean        1.591648        191.389650           112.118582  2.441321e+05  \n",
      "std         0.879062       1490.906401           898.847733  2.999523e+05  \n",
      "min         1.000000         10.000000             1.000000  6.000000e+03  \n",
      "25%         1.000000         52.000000            47.000000  1.150000e+05  \n",
      "50%         1.000000         78.000000            68.000000  1.700000e+05  \n",
      "75%         2.000000        138.000000           108.000000  2.690000e+05  \n",
      "max        14.000000     169000.000000        126062.000000  3.243423e+07  \n"
     ]
    }
   ],
   "source": [
    "# Estadísticas básicas (promedios, desvío, min, max, etc.)\n",
    "print(data_3.describe())"
   ]
  },
  {
   "cell_type": "code",
   "execution_count": 141,
   "id": "72bb5004",
   "metadata": {},
   "outputs": [
    {
     "name": "stdout",
     "output_type": "stream",
     "text": [
      "                          lat       lon  ambientes  dormitorios     baños  \\\n",
      "lat                  1.000000 -0.698515  -0.064708    -0.042450  0.092947   \n",
      "lon                 -0.698515  1.000000  -0.019355    -0.040154 -0.073784   \n",
      "ambientes           -0.064708 -0.019355   1.000000     0.910966  0.611770   \n",
      "dormitorios         -0.042450 -0.040154   0.910966     1.000000  0.620735   \n",
      "baños                0.092947 -0.073784   0.611770     0.620735  1.000000   \n",
      "superficie_total    -0.016133 -0.047335   0.101696     0.096344  0.079172   \n",
      "superficie_cubierta -0.004370 -0.014008   0.075844     0.073011  0.069271   \n",
      "precio               0.091484  0.037808   0.399234     0.379987  0.558982   \n",
      "\n",
      "                     superficie_total  superficie_cubierta    precio  \n",
      "lat                         -0.016133            -0.004370  0.091484  \n",
      "lon                         -0.047335            -0.014008  0.037808  \n",
      "ambientes                    0.101696             0.075844  0.399234  \n",
      "dormitorios                  0.096344             0.073011  0.379987  \n",
      "baños                        0.079172             0.069271  0.558982  \n",
      "superficie_total             1.000000             0.412752  0.044137  \n",
      "superficie_cubierta          0.412752             1.000000  0.049255  \n",
      "precio                       0.044137             0.049255  1.000000  \n"
     ]
    }
   ],
   "source": [
    "# Tabla de correlaciones entre columnas numéricas\n",
    "print(data_3.corr(numeric_only=True))"
   ]
  },
  {
   "cell_type": "code",
   "execution_count": 142,
   "id": "ff2c02d3",
   "metadata": {},
   "outputs": [
    {
     "data": {
      "text/plain": [
       "moneda  tipo_operacion  tipo_propiedad  titulo                                                                          \n",
       "USD     Venta           Departamento    DEPARTAMENTO EN VENTA                                                               4355\n",
       "                                        Departamento de 2 ambientes en Venta en Villa crespo                                1586\n",
       "                                        Departamento de 3 ambientes en Venta en Almagro                                     1256\n",
       "                                        Departamento de 3 ambientes en Venta en Villa crespo                                1146\n",
       "                                        Departamento de 2 ambientes en Venta en Palermo                                     1117\n",
       "                                                                                                                            ... \n",
       "                                        Departamento 5 Ambientes                                                               1\n",
       "                                        Departamento 5 Ambientes con Dependencia y Cochera                                     1\n",
       "                                        Departamento 5 amb Cochera Villa del Parque                                            1\n",
       "                                        Departamento 5 amb al frente/ Balcón                                                   1\n",
       "                        PH              Único y Exclusivo PH de 4 ambientes en Planta baja con Terraza Propia en 1° Piso       1\n",
       "Name: count, Length: 62816, dtype: int64"
      ]
     },
     "execution_count": 142,
     "metadata": {},
     "output_type": "execute_result"
    }
   ],
   "source": [
    "data_3[['moneda', \"tipo_operacion\", \"tipo_propiedad\", \"titulo\"]].value_counts()\n"
   ]
  },
  {
   "cell_type": "code",
   "execution_count": 143,
   "id": "0a432795",
   "metadata": {},
   "outputs": [
    {
     "data": {
      "text/html": [
       "<div>\n",
       "<style scoped>\n",
       "    .dataframe tbody tr th:only-of-type {\n",
       "        vertical-align: middle;\n",
       "    }\n",
       "\n",
       "    .dataframe tbody tr th {\n",
       "        vertical-align: top;\n",
       "    }\n",
       "\n",
       "    .dataframe thead th {\n",
       "        text-align: right;\n",
       "    }\n",
       "</style>\n",
       "<table border=\"1\" class=\"dataframe\">\n",
       "  <thead>\n",
       "    <tr style=\"text-align: right;\">\n",
       "      <th></th>\n",
       "      <th>provincia</th>\n",
       "      <th>ciudad</th>\n",
       "      <th>ambientes</th>\n",
       "      <th>dormitorios</th>\n",
       "      <th>baños</th>\n",
       "      <th>superficie_total</th>\n",
       "      <th>superficie_cubierta</th>\n",
       "      <th>precio</th>\n",
       "      <th>tipo_propiedad</th>\n",
       "    </tr>\n",
       "  </thead>\n",
       "  <tbody>\n",
       "    <tr>\n",
       "      <th>0</th>\n",
       "      <td>Capital Federal</td>\n",
       "      <td>San Cristobal</td>\n",
       "      <td>7.0</td>\n",
       "      <td>7.0</td>\n",
       "      <td>2.0</td>\n",
       "      <td>140.0</td>\n",
       "      <td>140.0</td>\n",
       "      <td>153000.0</td>\n",
       "      <td>Departamento</td>\n",
       "    </tr>\n",
       "    <tr>\n",
       "      <th>1</th>\n",
       "      <td>Capital Federal</td>\n",
       "      <td>Boedo</td>\n",
       "      <td>2.0</td>\n",
       "      <td>1.0</td>\n",
       "      <td>2.0</td>\n",
       "      <td>70.0</td>\n",
       "      <td>58.0</td>\n",
       "      <td>159000.0</td>\n",
       "      <td>PH</td>\n",
       "    </tr>\n",
       "    <tr>\n",
       "      <th>2</th>\n",
       "      <td>Capital Federal</td>\n",
       "      <td>Palermo</td>\n",
       "      <td>2.0</td>\n",
       "      <td>1.0</td>\n",
       "      <td>1.0</td>\n",
       "      <td>45.0</td>\n",
       "      <td>45.0</td>\n",
       "      <td>125000.0</td>\n",
       "      <td>PH</td>\n",
       "    </tr>\n",
       "    <tr>\n",
       "      <th>3</th>\n",
       "      <td>Capital Federal</td>\n",
       "      <td>Palermo</td>\n",
       "      <td>2.0</td>\n",
       "      <td>1.0</td>\n",
       "      <td>1.0</td>\n",
       "      <td>85.0</td>\n",
       "      <td>50.0</td>\n",
       "      <td>295000.0</td>\n",
       "      <td>PH</td>\n",
       "    </tr>\n",
       "    <tr>\n",
       "      <th>4</th>\n",
       "      <td>Bs.As. G.B.A. Zona Sur</td>\n",
       "      <td>La Plata</td>\n",
       "      <td>2.0</td>\n",
       "      <td>1.0</td>\n",
       "      <td>1.0</td>\n",
       "      <td>50.0</td>\n",
       "      <td>35.0</td>\n",
       "      <td>40000.0</td>\n",
       "      <td>PH</td>\n",
       "    </tr>\n",
       "  </tbody>\n",
       "</table>\n",
       "</div>"
      ],
      "text/plain": [
       "                provincia         ciudad  ambientes  dormitorios  baños  \\\n",
       "0         Capital Federal  San Cristobal        7.0          7.0    2.0   \n",
       "1         Capital Federal          Boedo        2.0          1.0    2.0   \n",
       "2         Capital Federal        Palermo        2.0          1.0    1.0   \n",
       "3         Capital Federal        Palermo        2.0          1.0    1.0   \n",
       "4  Bs.As. G.B.A. Zona Sur       La Plata        2.0          1.0    1.0   \n",
       "\n",
       "   superficie_total  superficie_cubierta    precio tipo_propiedad  \n",
       "0             140.0                140.0  153000.0   Departamento  \n",
       "1              70.0                 58.0  159000.0             PH  \n",
       "2              45.0                 45.0  125000.0             PH  \n",
       "3              85.0                 50.0  295000.0             PH  \n",
       "4              50.0                 35.0   40000.0             PH  "
      ]
     },
     "execution_count": 143,
     "metadata": {},
     "output_type": "execute_result"
    }
   ],
   "source": [
    "data_fil = data_3[['provincia', 'ciudad',\n",
    " 'ambientes', 'dormitorios', 'baños', 'superficie_total', 'superficie_cubierta',\n",
    " 'precio', 'tipo_propiedad']]\n",
    "\n",
    "data_fil.head()"
   ]
  },
  {
   "cell_type": "code",
   "execution_count": 144,
   "id": "3735004d",
   "metadata": {},
   "outputs": [
    {
     "data": {
      "text/plain": [
       "(122818, 9)"
      ]
     },
     "execution_count": 144,
     "metadata": {},
     "output_type": "execute_result"
    }
   ],
   "source": [
    "data_fil.shape"
   ]
  },
  {
   "cell_type": "markdown",
   "id": "b0bf70b1",
   "metadata": {},
   "source": [
    "# Un Poquito de Matplotlib "
   ]
  },
  {
   "cell_type": "code",
   "execution_count": null,
   "id": "ef8ffb0a",
   "metadata": {},
   "outputs": [],
   "source": [
    "import numpy as np\n",
    "import seaborn as sns\n",
    "import matplotlib.pyplot as plt"
   ]
  }
 ],
 "metadata": {
  "kernelspec": {
   "display_name": "club",
   "language": "python",
   "name": "python3"
  },
  "language_info": {
   "codemirror_mode": {
    "name": "ipython",
    "version": 3
   },
   "file_extension": ".py",
   "mimetype": "text/x-python",
   "name": "python",
   "nbconvert_exporter": "python",
   "pygments_lexer": "ipython3",
   "version": "3.13.2"
  }
 },
 "nbformat": 4,
 "nbformat_minor": 5
}
